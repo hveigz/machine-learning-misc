{
 "cells": [
  {
   "cell_type": "markdown",
   "metadata": {},
   "source": [
    "# Adversarial Validation - train/test distribution mismatch identification"
   ]
  },
  {
   "cell_type": "markdown",
   "metadata": {},
   "source": [
    "Sources: <br>\n",
    "http://fastml.com/adversarial-validation/ <br>\n",
    "http://fastml.com/adversarial-validation-part-two/"
   ]
  },
  {
   "cell_type": "code",
   "execution_count": 30,
   "metadata": {},
   "outputs": [],
   "source": [
    "import pandas as pd\n",
    "import numpy as np\n",
    "import matplotlib.pyplot as plt\n",
    "%matplotlib inline\n",
    "from sklearn.model_selection import StratifiedKFold\n",
    "from sklearn.model_selection import cross_val_predict\n",
    "from sklearn.ensemble import RandomForestClassifier, GradientBoostingClassifier\n",
    "from sklearn.metrics import roc_auc_score"
   ]
  },
  {
   "cell_type": "markdown",
   "metadata": {},
   "source": [
    "#### I'll be using a dataset from Numerai (2018-04-15)\n",
    "#### Binary classification prediction on encrypted data"
   ]
  },
  {
   "cell_type": "code",
   "execution_count": 4,
   "metadata": {},
   "outputs": [],
   "source": [
    "training_data = pd.read_csv('./numerai_datasets_15_04_2018/numerai_training_data.csv', header=0)\n",
    "prediction_data = pd.read_csv('./numerai_datasets_15_04_2018/numerai_tournament_data.csv', header=0)"
   ]
  },
  {
   "cell_type": "code",
   "execution_count": 21,
   "metadata": {},
   "outputs": [
    {
     "name": "stdout",
     "output_type": "stream",
     "text": [
      "Train dataset size: (393613, 54)\n",
      "Validation/Test dataset size: (243377, 54)\n"
     ]
    }
   ],
   "source": [
    "print(\"Train dataset size: \"+str(training_data.shape))\n",
    "print(\"Validation/Test dataset size: \"+str(prediction_data.shape))"
   ]
  },
  {
   "cell_type": "code",
   "execution_count": 5,
   "metadata": {},
   "outputs": [
    {
     "data": {
      "text/html": [
       "<div>\n",
       "<style scoped>\n",
       "    .dataframe tbody tr th:only-of-type {\n",
       "        vertical-align: middle;\n",
       "    }\n",
       "\n",
       "    .dataframe tbody tr th {\n",
       "        vertical-align: top;\n",
       "    }\n",
       "\n",
       "    .dataframe thead th {\n",
       "        text-align: right;\n",
       "    }\n",
       "</style>\n",
       "<table border=\"1\" class=\"dataframe\">\n",
       "  <thead>\n",
       "    <tr style=\"text-align: right;\">\n",
       "      <th></th>\n",
       "      <th>id</th>\n",
       "      <th>era</th>\n",
       "      <th>data_type</th>\n",
       "      <th>feature1</th>\n",
       "      <th>feature2</th>\n",
       "      <th>feature3</th>\n",
       "      <th>feature4</th>\n",
       "      <th>feature5</th>\n",
       "      <th>feature6</th>\n",
       "      <th>feature7</th>\n",
       "      <th>...</th>\n",
       "      <th>feature42</th>\n",
       "      <th>feature43</th>\n",
       "      <th>feature44</th>\n",
       "      <th>feature45</th>\n",
       "      <th>feature46</th>\n",
       "      <th>feature47</th>\n",
       "      <th>feature48</th>\n",
       "      <th>feature49</th>\n",
       "      <th>feature50</th>\n",
       "      <th>target</th>\n",
       "    </tr>\n",
       "  </thead>\n",
       "  <tbody>\n",
       "    <tr>\n",
       "      <th>0</th>\n",
       "      <td>n2b2e3dd163cb422</td>\n",
       "      <td>era1</td>\n",
       "      <td>train</td>\n",
       "      <td>0.43487</td>\n",
       "      <td>0.44645</td>\n",
       "      <td>0.25802</td>\n",
       "      <td>0.37149</td>\n",
       "      <td>0.62235</td>\n",
       "      <td>0.67451</td>\n",
       "      <td>0.68103</td>\n",
       "      <td>...</td>\n",
       "      <td>0.52962</td>\n",
       "      <td>0.42439</td>\n",
       "      <td>0.51680</td>\n",
       "      <td>0.46297</td>\n",
       "      <td>0.57426</td>\n",
       "      <td>0.57946</td>\n",
       "      <td>0.49646</td>\n",
       "      <td>0.48968</td>\n",
       "      <td>0.54194</td>\n",
       "      <td>1</td>\n",
       "    </tr>\n",
       "    <tr>\n",
       "      <th>1</th>\n",
       "      <td>n177021a571c94c8</td>\n",
       "      <td>era1</td>\n",
       "      <td>train</td>\n",
       "      <td>0.50038</td>\n",
       "      <td>0.39216</td>\n",
       "      <td>0.38394</td>\n",
       "      <td>0.51213</td>\n",
       "      <td>0.36660</td>\n",
       "      <td>0.46911</td>\n",
       "      <td>0.68204</td>\n",
       "      <td>...</td>\n",
       "      <td>0.51669</td>\n",
       "      <td>0.48445</td>\n",
       "      <td>0.57587</td>\n",
       "      <td>0.59860</td>\n",
       "      <td>0.67558</td>\n",
       "      <td>0.45577</td>\n",
       "      <td>0.80908</td>\n",
       "      <td>0.50287</td>\n",
       "      <td>0.61629</td>\n",
       "      <td>0</td>\n",
       "    </tr>\n",
       "    <tr>\n",
       "      <th>2</th>\n",
       "      <td>n7830fa4c0cd8466</td>\n",
       "      <td>era1</td>\n",
       "      <td>train</td>\n",
       "      <td>0.47416</td>\n",
       "      <td>0.34143</td>\n",
       "      <td>0.39528</td>\n",
       "      <td>0.46337</td>\n",
       "      <td>0.72953</td>\n",
       "      <td>0.45962</td>\n",
       "      <td>0.47869</td>\n",
       "      <td>...</td>\n",
       "      <td>0.41458</td>\n",
       "      <td>0.34804</td>\n",
       "      <td>0.29058</td>\n",
       "      <td>0.51382</td>\n",
       "      <td>0.36389</td>\n",
       "      <td>0.80602</td>\n",
       "      <td>0.39253</td>\n",
       "      <td>0.41821</td>\n",
       "      <td>0.58679</td>\n",
       "      <td>0</td>\n",
       "    </tr>\n",
       "    <tr>\n",
       "      <th>3</th>\n",
       "      <td>nc594a184cee941b</td>\n",
       "      <td>era1</td>\n",
       "      <td>train</td>\n",
       "      <td>0.48759</td>\n",
       "      <td>0.55903</td>\n",
       "      <td>0.43987</td>\n",
       "      <td>0.38834</td>\n",
       "      <td>0.44650</td>\n",
       "      <td>0.46389</td>\n",
       "      <td>0.70749</td>\n",
       "      <td>...</td>\n",
       "      <td>0.28776</td>\n",
       "      <td>0.42881</td>\n",
       "      <td>0.55402</td>\n",
       "      <td>0.53695</td>\n",
       "      <td>0.48793</td>\n",
       "      <td>0.62432</td>\n",
       "      <td>0.52898</td>\n",
       "      <td>0.49009</td>\n",
       "      <td>0.49557</td>\n",
       "      <td>0</td>\n",
       "    </tr>\n",
       "    <tr>\n",
       "      <th>4</th>\n",
       "      <td>nc5ab8667901946a</td>\n",
       "      <td>era1</td>\n",
       "      <td>train</td>\n",
       "      <td>0.23433</td>\n",
       "      <td>0.55499</td>\n",
       "      <td>0.47849</td>\n",
       "      <td>0.56990</td>\n",
       "      <td>0.64945</td>\n",
       "      <td>0.47152</td>\n",
       "      <td>0.62085</td>\n",
       "      <td>...</td>\n",
       "      <td>0.64405</td>\n",
       "      <td>0.32416</td>\n",
       "      <td>0.33193</td>\n",
       "      <td>0.58065</td>\n",
       "      <td>0.44587</td>\n",
       "      <td>0.47770</td>\n",
       "      <td>0.44020</td>\n",
       "      <td>0.47895</td>\n",
       "      <td>0.57978</td>\n",
       "      <td>0</td>\n",
       "    </tr>\n",
       "  </tbody>\n",
       "</table>\n",
       "<p>5 rows × 54 columns</p>\n",
       "</div>"
      ],
      "text/plain": [
       "                 id   era data_type  feature1  feature2  feature3  feature4  \\\n",
       "0  n2b2e3dd163cb422  era1     train   0.43487   0.44645   0.25802   0.37149   \n",
       "1  n177021a571c94c8  era1     train   0.50038   0.39216   0.38394   0.51213   \n",
       "2  n7830fa4c0cd8466  era1     train   0.47416   0.34143   0.39528   0.46337   \n",
       "3  nc594a184cee941b  era1     train   0.48759   0.55903   0.43987   0.38834   \n",
       "4  nc5ab8667901946a  era1     train   0.23433   0.55499   0.47849   0.56990   \n",
       "\n",
       "   feature5  feature6  feature7   ...    feature42  feature43  feature44  \\\n",
       "0   0.62235   0.67451   0.68103   ...      0.52962    0.42439    0.51680   \n",
       "1   0.36660   0.46911   0.68204   ...      0.51669    0.48445    0.57587   \n",
       "2   0.72953   0.45962   0.47869   ...      0.41458    0.34804    0.29058   \n",
       "3   0.44650   0.46389   0.70749   ...      0.28776    0.42881    0.55402   \n",
       "4   0.64945   0.47152   0.62085   ...      0.64405    0.32416    0.33193   \n",
       "\n",
       "   feature45  feature46  feature47  feature48  feature49  feature50  target  \n",
       "0    0.46297    0.57426    0.57946    0.49646    0.48968    0.54194       1  \n",
       "1    0.59860    0.67558    0.45577    0.80908    0.50287    0.61629       0  \n",
       "2    0.51382    0.36389    0.80602    0.39253    0.41821    0.58679       0  \n",
       "3    0.53695    0.48793    0.62432    0.52898    0.49009    0.49557       0  \n",
       "4    0.58065    0.44587    0.47770    0.44020    0.47895    0.57978       0  \n",
       "\n",
       "[5 rows x 54 columns]"
      ]
     },
     "execution_count": 5,
     "metadata": {},
     "output_type": "execute_result"
    }
   ],
   "source": [
    "training_data.head()"
   ]
  },
  {
   "cell_type": "code",
   "execution_count": 6,
   "metadata": {},
   "outputs": [],
   "source": [
    "# identify features\n",
    "features = [f for f in list(training_data) if \"feature\" in f]"
   ]
  },
  {
   "cell_type": "markdown",
   "metadata": {},
   "source": [
    "#### Split between train, validation and test dataset"
   ]
  },
  {
   "cell_type": "code",
   "execution_count": 8,
   "metadata": {},
   "outputs": [],
   "source": [
    "# Train dataset\n",
    "X_train = training_data[features+[\"target\", \"id\"]]\n",
    "\n",
    "# Validation dataset\n",
    "X_val = prediction_data[prediction_data[\"target\"].notnull()][features+[\"target\", \"id\"]]\n",
    "\n",
    "# Test dataset\n",
    "X_test = prediction_data[prediction_data[\"target\"].isnull()][features+[\"target\", \"id\"]]\n",
    "\n",
    "x_prediction = prediction_data[features]\n",
    "ids = prediction_data[\"id\"]"
   ]
  },
  {
   "cell_type": "markdown",
   "metadata": {},
   "source": [
    "#### Prepare datasets for training"
   ]
  },
  {
   "cell_type": "code",
   "execution_count": 9,
   "metadata": {},
   "outputs": [],
   "source": [
    "X_train_check = X_train.copy()\n",
    "X_test_check = X_test.copy()\n",
    "\n",
    "# Mark train obserations as 1 and test observations as 0\n",
    "X_train_check['TARGET_adv'] = 0\n",
    "X_test_check['TARGET_adv'] = 1\n",
    "\n",
    "# Concatenate train and test datasets into one dataset\n",
    "adv_val_set = pd.concat(( X_train_check, X_test_check ))\n",
    "adv_val_set.reset_index( inplace = True, drop = True )\n",
    "\n",
    "# Split features and target\n",
    "adv_val_x = adv_val_set.drop([\"TARGET_adv\", \"target\"], axis=1)\n",
    "adv_val_y = adv_val_set.TARGET_adv "
   ]
  },
  {
   "cell_type": "markdown",
   "metadata": {},
   "source": [
    "#### Predict observations to be train or test"
   ]
  },
  {
   "cell_type": "code",
   "execution_count": 13,
   "metadata": {},
   "outputs": [],
   "source": [
    "# Instantiate classifier\n",
    "adv_val_clf = RandomForestClassifier( n_estimators=50, n_jobs = -1, random_state=55555 )\n",
    "\n",
    "# setup stratified k-fold cross-validation\n",
    "skf = StratifiedKFold(n_splits = 3, shuffle = True, random_state = 55555 )\n",
    "\n",
    "# Predict (prediction based on model built when observation was in cv test set)\n",
    "predictions = cross_val_predict(adv_val_clf, X=adv_val_x.drop(\"id\", axis=1), y=adv_val_y, \n",
    "                          cv=skf, n_jobs=-1, method='predict_proba')"
   ]
  },
  {
   "cell_type": "markdown",
   "metadata": {},
   "source": [
    "#### Check model performance based on AUC"
   ]
  },
  {
   "cell_type": "code",
   "execution_count": 14,
   "metadata": {},
   "outputs": [
    {
     "data": {
      "text/plain": [
       "0.7723257652102933"
      ]
     },
     "execution_count": 14,
     "metadata": {},
     "output_type": "execute_result"
    }
   ],
   "source": [
    "roc_auc_score( adv_val_y, predictions[:, 1] )"
   ]
  },
  {
   "cell_type": "markdown",
   "metadata": {},
   "source": [
    "An AUC of 77% means the model was able to distinguish between the train and test datasets. <br>\n",
    "This means our train and test datasets have different distributions. <br>\n",
    "Let's identify \n"
   ]
  },
  {
   "cell_type": "markdown",
   "metadata": {},
   "source": [
    "#### Sort the training points by their estimated probability of being test examples"
   ]
  },
  {
   "cell_type": "code",
   "execution_count": 17,
   "metadata": {},
   "outputs": [],
   "source": [
    "# Get adversarial prediction into the adversarial dataset\n",
    "adv_val_set['adversarial_pred'] = predictions[:, 1]\n",
    "\n",
    "# Get only train observations\n",
    "adv_val_set_sorted = adv_val_set[adv_val_set[\"TARGET_adv\"] == 0]\n",
    "\n",
    "# Sort observations by the adversarial prediction\n",
    "adv_val_set_sorted = adv_val_set_sorted.sort_values(by=\"adversarial_pred\")"
   ]
  },
  {
   "cell_type": "markdown",
   "metadata": {},
   "source": [
    "#### Inspect top and end observations, and the probability of being a test example distribution (after sorting)"
   ]
  },
  {
   "cell_type": "code",
   "execution_count": 27,
   "metadata": {
    "scrolled": true
   },
   "outputs": [
    {
     "data": {
      "text/html": [
       "<div>\n",
       "<style scoped>\n",
       "    .dataframe tbody tr th:only-of-type {\n",
       "        vertical-align: middle;\n",
       "    }\n",
       "\n",
       "    .dataframe tbody tr th {\n",
       "        vertical-align: top;\n",
       "    }\n",
       "\n",
       "    .dataframe thead th {\n",
       "        text-align: right;\n",
       "    }\n",
       "</style>\n",
       "<table border=\"1\" class=\"dataframe\">\n",
       "  <thead>\n",
       "    <tr style=\"text-align: right;\">\n",
       "      <th></th>\n",
       "      <th>id</th>\n",
       "      <th>TARGET_adv</th>\n",
       "      <th>adversarial_pred</th>\n",
       "    </tr>\n",
       "  </thead>\n",
       "  <tbody>\n",
       "    <tr>\n",
       "      <th>222789</th>\n",
       "      <td>n0ffbac15127e471</td>\n",
       "      <td>0</td>\n",
       "      <td>0.00</td>\n",
       "    </tr>\n",
       "    <tr>\n",
       "      <th>93003</th>\n",
       "      <td>n9b933ecfee6e451</td>\n",
       "      <td>0</td>\n",
       "      <td>0.02</td>\n",
       "    </tr>\n",
       "    <tr>\n",
       "      <th>313886</th>\n",
       "      <td>n25441ee5fdb846f</td>\n",
       "      <td>0</td>\n",
       "      <td>0.02</td>\n",
       "    </tr>\n",
       "  </tbody>\n",
       "</table>\n",
       "</div>"
      ],
      "text/plain": [
       "                      id  TARGET_adv  adversarial_pred\n",
       "222789  n0ffbac15127e471           0              0.00\n",
       "93003   n9b933ecfee6e451           0              0.02\n",
       "313886  n25441ee5fdb846f           0              0.02"
      ]
     },
     "execution_count": 27,
     "metadata": {},
     "output_type": "execute_result"
    }
   ],
   "source": [
    "adv_val_set_sorted[[\"id\",\"TARGET_adv\",\"adversarial_pred\"]].head(3)"
   ]
  },
  {
   "cell_type": "code",
   "execution_count": 28,
   "metadata": {},
   "outputs": [
    {
     "data": {
      "text/html": [
       "<div>\n",
       "<style scoped>\n",
       "    .dataframe tbody tr th:only-of-type {\n",
       "        vertical-align: middle;\n",
       "    }\n",
       "\n",
       "    .dataframe tbody tr th {\n",
       "        vertical-align: top;\n",
       "    }\n",
       "\n",
       "    .dataframe thead th {\n",
       "        text-align: right;\n",
       "    }\n",
       "</style>\n",
       "<table border=\"1\" class=\"dataframe\">\n",
       "  <thead>\n",
       "    <tr style=\"text-align: right;\">\n",
       "      <th></th>\n",
       "      <th>id</th>\n",
       "      <th>TARGET_adv</th>\n",
       "      <th>adversarial_pred</th>\n",
       "    </tr>\n",
       "  </thead>\n",
       "  <tbody>\n",
       "    <tr>\n",
       "      <th>314247</th>\n",
       "      <td>n07cf252d738245c</td>\n",
       "      <td>0</td>\n",
       "      <td>0.76</td>\n",
       "    </tr>\n",
       "    <tr>\n",
       "      <th>99166</th>\n",
       "      <td>n56462a4db86742d</td>\n",
       "      <td>0</td>\n",
       "      <td>0.78</td>\n",
       "    </tr>\n",
       "    <tr>\n",
       "      <th>103647</th>\n",
       "      <td>nbdc94a0b1c0a483</td>\n",
       "      <td>0</td>\n",
       "      <td>0.80</td>\n",
       "    </tr>\n",
       "  </tbody>\n",
       "</table>\n",
       "</div>"
      ],
      "text/plain": [
       "                      id  TARGET_adv  adversarial_pred\n",
       "314247  n07cf252d738245c           0              0.76\n",
       "99166   n56462a4db86742d           0              0.78\n",
       "103647  nbdc94a0b1c0a483           0              0.80"
      ]
     },
     "execution_count": 28,
     "metadata": {},
     "output_type": "execute_result"
    }
   ],
   "source": [
    "adv_val_set_sorted[[\"id\",\"TARGET_adv\",\"adversarial_pred\"]].tail(3)"
   ]
  },
  {
   "cell_type": "code",
   "execution_count": 37,
   "metadata": {},
   "outputs": [
    {
     "data": {
      "image/png": "[encoded data removed]",
      "text/plain": [
       "<Figure size 432x288 with 1 Axes>"
      ]
     },
     "metadata": {},
     "output_type": "display_data"
    }
   ],
   "source": [
    "adv_val_set_sorted.adversarial_pred.hist()\n",
    "plt.axvline(x=0.5, color=\"red\")\n",
    "plt.show()"
   ]
  },
  {
   "cell_type": "code",
   "execution_count": 42,
   "metadata": {},
   "outputs": [
    {
     "name": "stdout",
     "output_type": "stream",
     "text": [
      "6154\n",
      "0.015634646213412668\n"
     ]
    }
   ],
   "source": [
    "print(adv_val_set_sorted[adv_val_set_sorted.adversarial_pred > 0.5].shape[0])\n",
    "print(adv_val_set_sorted[adv_val_set_sorted.adversarial_pred > 0.5].shape[0] / adv_val_set_sorted.shape[0])"
   ]
  },
  {
   "cell_type": "markdown",
   "metadata": {},
   "source": [
    "Numerai is a highly noisy dataset, and because of that only 6154 observations (15%) get a probability of being a test example of more than 50%"
   ]
  },
  {
   "cell_type": "markdown",
   "metadata": {},
   "source": [
    "#### Take the desired number of examples from the end (higher probability of being a test set observation) and use those as the new training"
   ]
  },
  {
   "cell_type": "code",
   "execution_count": 43,
   "metadata": {},
   "outputs": [],
   "source": [
    "val_size = 50000\n",
    "\n",
    "# New train and validation sets\n",
    "new_train_set = adv_val_set_sorted.iloc[:-val_size].drop([\"TARGET_adv\", \"adversarial_pred\"], axis=1)\n",
    "new_val_set = adv_val_set_sorted.iloc[-val_size:].drop([\"TARGET_adv\", \"adversarial_pred\"], axis=1)"
   ]
  },
  {
   "cell_type": "code",
   "execution_count": null,
   "metadata": {},
   "outputs": [],
   "source": []
  }
 ],
 "metadata": {
  "kernelspec": {
   "display_name": "Python 3",
   "language": "python",
   "name": "python3"
  },
  "language_info": {
   "codemirror_mode": {
    "name": "ipython",
    "version": 3
   },
   "file_extension": ".py",
   "mimetype": "text/x-python",
   "name": "python",
   "nbconvert_exporter": "python",
   "pygments_lexer": "ipython3",
   "version": "3.6.4"
  }
 },
 "nbformat": 4,
 "nbformat_minor": 2
}
